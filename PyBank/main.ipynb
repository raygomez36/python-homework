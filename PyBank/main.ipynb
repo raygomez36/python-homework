{
 "cells": [
  {
   "cell_type": "code",
   "execution_count": 1,
   "id": "2d3e597c-3a99-4c76-9f81-08f50e3f029a",
   "metadata": {},
   "outputs": [],
   "source": [
    "#import csv file\n",
    "import csv\n",
    "from pathlib import Path\n",
    "\n",
    "csv_file_load = Path(\"budget_data.csv\")\n",
    "csv_file_output =  Path(\"budget_analysis.txt\")    \n",
    "\n"
   ]
  },
  {
   "cell_type": "code",
   "execution_count": 2,
   "id": "07de40b5-8102-443c-88bc-95cedfdf54a7",
   "metadata": {},
   "outputs": [],
   "source": [
    "#Variables\n",
    "total_months = 0\n",
    "month_of_change = []\n",
    "net_change_list = []\n",
    "greatest_increase = [\"\", 0]\n",
    "greatest_decrease = [\"\", 99999999999999]\n",
    "total_net = 0\n"
   ]
  },
  {
   "cell_type": "code",
   "execution_count": 3,
   "id": "d9a275af-c701-4360-b801-8d2b532447e9",
   "metadata": {},
   "outputs": [],
   "source": [
    "#Read the csv and convert it inot a list of dictionaries\n",
    "with open(csv_file_load) as budget_data:\n",
    "    reader = csv.reader(budget_data)\n",
    "    \n",
    "    # Read the header row\n",
    "    header = next(reader)\n",
    "    \n",
    "    #calculating metrics from the first row\n",
    "    first_row = next(reader)\n",
    "    total_months = total_months + 1 #counting the first month\n",
    "    total_net = total_net + int(first_row[1])\n",
    "    prev_net = int(first_row[1])\n",
    "    \n",
    "    #populating metrics\n",
    "    for row in reader:\n",
    "        #easy metrics\n",
    "        total_months = total_months + 1\n",
    "        total_net = total_net + int(row[1])\n",
    "        #harder metrics, track the change, row over row\n",
    "        net_change = int(row[1]) - prev_net\n",
    "        prev_net = int(row[1])\n",
    "        net_change_list = net_change_list + [net_change]\n",
    "        month_of_change = month_of_change + [row[0]]\n",
    "        #calculate greatest increase\n",
    "        if net_change > greatest_increase[1]:\n",
    "            greatest_increase[0] = row[0]\n",
    "            greatest_increase[1] = net_change\n",
    "        if net_change < greatest_decrease[1]:\n",
    "            greatest_decrease[0] = row[0]\n",
    "            greatest_decrease[1] = net_change\n",
    "        \n",
    "        "
   ]
  },
  {
   "cell_type": "code",
   "execution_count": 4,
   "id": "5d0c4f17-6415-441b-909d-29a810f462eb",
   "metadata": {},
   "outputs": [],
   "source": [
    "net_monthly_avg = sum(net_change_list) / len(net_change_list)"
   ]
  },
  {
   "cell_type": "code",
   "execution_count": 5,
   "id": "0582a97a-9ca4-4816-ae8d-a6a2668b24a3",
   "metadata": {
    "tags": []
   },
   "outputs": [],
   "source": [
    "#Output\n",
    "with open(csv_file_output, 'w') as text_file:\n",
    "    text_file.write(f\"Financial Analysis\\n\")\n",
    "    text_file.write(f\"_________________________________\\n\")\n",
    "    text_file.write(f\"Total Months: {total_months}\\n\")\n",
    "    text_file.write(f\"Total: ${total_net}\\n\")\n",
    "    text_file.write(f\"Average Change: ${net_monthly_avg}\\n\")\n",
    "    text_file.write(f\"Greatest Increase of Profits: {greatest_increase[0]} (${greatest_increase[1]})\\n\")\n",
    "    text_file.write(f\"Greatest Decrease in Profits: {greatest_decrease[0]} (${greatest_decrease[1]})\\n\")"
   ]
  }
 ],
 "metadata": {
  "kernelspec": {
   "display_name": "Python 3 (ipykernel)",
   "language": "python",
   "name": "python3"
  },
  "language_info": {
   "codemirror_mode": {
    "name": "ipython",
    "version": 3
   },
   "file_extension": ".py",
   "mimetype": "text/x-python",
   "name": "python",
   "nbconvert_exporter": "python",
   "pygments_lexer": "ipython3",
   "version": "3.11.4"
  }
 },
 "nbformat": 4,
 "nbformat_minor": 5
}
